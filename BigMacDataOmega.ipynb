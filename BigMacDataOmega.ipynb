{
 "cells": [
  {
   "cell_type": "markdown",
   "metadata": {},
   "source": [
    "# Big Mac Data Omega\n",
    "## Your Task\n",
    "Now it's time to put it all together and complete an activity which demonstrates what you've learned so far. You may use several code windows if this helps.\n",
    "\n",
    "1) **Read** in the *big_mac_source_data_v2.csv* file and store it in a dataframe.\n",
    "\n",
    "2) **Remove** the *iso_a3*, *GDP_dollar* and *GDP_local* columns.\n",
    "\n",
    "3) **Remove** all rows **except** for *Australia*, *Britan*, *France*, *New Zealand* and *United States*. Hint: [Drop All Rows Except](https://www.statology.org/pandas-drop-all-rows-except/).\n",
    "\n",
    "4) **Create** a new column which calculates the **US dollar price** by multipling *local_price* by *dollar_ex* [How to mulitply two columns in Pandas](https://www.statology.org/pandas-multiply-two-columns/). If you get a warning due to setting a value on copy of a slice, use: \n",
    "\n",
    "    `name_of_your_dataframe.loc[:, 'yournewcolumnname'] = ...` \n",
    "\n",
    "5) **Calculate** the **mean** for each country in USD. You may need to first isolate each country [Select rows from Dataframe based on Column Values](https://sentry.io/answers/select-rows-from-a-python-pandas-dataframe-based-on-column-values/)\n",
    "\n",
    "6) Use **matplotlib** to plot a **comparison** of each country's average - look at [matplotlib Bars](https://www.w3schools.com/python/matplotlib_bars.asp)\n",
    "\n",
    "7) Do step 4 and 5 again for **median**.\n",
    "\n",
    "8) **Extension:** See if you can simplify step 5-7 into the minimum amount of code possible (use *for loops* and *functions* where possible)"
   ]
  },
  {
   "cell_type": "code",
   "execution_count": 18,
   "metadata": {},
   "outputs": [
    {
     "name": "stderr",
     "output_type": "stream",
     "text": [
      "C:\\Users\\seblh\\AppData\\Local\\Temp\\ipykernel_1420\\2218234192.py:13: SettingWithCopyWarning: \n",
      "A value is trying to be set on a copy of a slice from a DataFrame.\n",
      "Try using .loc[row_indexer,col_indexer] = value instead\n",
      "\n",
      "See the caveats in the documentation: https://pandas.pydata.org/pandas-docs/stable/user_guide/indexing.html#returning-a-view-versus-a-copy\n",
      "  new2_df['USD Price'] = new2_df.local_price * new2_df.dollar_ex\n"
     ]
    }
   ],
   "source": [
    "import matplotlib.pyplot as plt\n",
    "import pandas as pd\n",
    "# Step 1\n",
    "big_mac_df = pd.read_csv('Data/big_mac_source_data_v2.csv')\n",
    "\n",
    "#Step 2\n",
    "new1_df = big_mac_df.drop(columns=['iso_a3', 'GDP_dollar', 'GDP_local'])\n",
    "\n",
    "#Step 3\n",
    "new2_df = new1_df.query(\"name == 'Australia' | name == 'Britain' | name == 'France' | name == 'New Zealand' | name == 'United States'\")\n",
    "\n",
    "#Step 4\n",
    "new2_df['USD Price'] = new2_df.local_price * new2_df.dollar_ex\n",
    "new2_df.loc[:, 'USD Price'] = new2_df.local_price * new2_df.dollar_ex"
   ]
  }
 ],
 "metadata": {
  "kernelspec": {
   "display_name": "Python 3",
   "language": "python",
   "name": "python3"
  },
  "language_info": {
   "codemirror_mode": {
    "name": "ipython",
    "version": 3
   },
   "file_extension": ".py",
   "mimetype": "text/x-python",
   "name": "python",
   "nbconvert_exporter": "python",
   "pygments_lexer": "ipython3",
   "version": "3.12.4"
  }
 },
 "nbformat": 4,
 "nbformat_minor": 2
}
